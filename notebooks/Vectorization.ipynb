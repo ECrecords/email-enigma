{
 "cells": [
  {
   "cell_type": "code",
   "execution_count": 3,
   "id": "9a4aba7c-d842-4ce4-b90d-a57b52f9f009",
   "metadata": {},
   "outputs": [
    {
     "name": "stderr",
     "output_type": "stream",
     "text": [
      "C:\\Users\\Ryan\\AppData\\Local\\Temp\\ipykernel_31700\\2867726928.py:10: FutureWarning: DataFrame.applymap has been deprecated. Use DataFrame.map instead.\n",
      "  df = df.applymap(lambda x: x.replace(word, '') if isinstance(x, str) else x)\n"
     ]
    },
    {
     "name": "stdout",
     "output_type": "stream",
     "text": [
      "       00  000  0000  000000  00000000  0000000000  0000000000001110  \\\n",
      "0       0    0     0       0         0           0                 0   \n",
      "1       0    0     0       0         0           0                 0   \n",
      "2       0    0     0       0         0           0                 0   \n",
      "3       1    1     0       0         0           0                 0   \n",
      "4       0    1     0       0         0           0                 0   \n",
      "...    ..  ...   ...     ...       ...         ...               ...   \n",
      "33711   0    2     0       0         0           0                 0   \n",
      "33712   0    1     0       0         0           0                 0   \n",
      "33713   0    0     0       0         0           0                 0   \n",
      "33714   0    0     0       0         0           0                 0   \n",
      "33715   0    2     0       0         0           0                 0   \n",
      "\n",
      "       000000000002858  000000000003619  000000000003991  ...  zzvffofbj  zzw  \\\n",
      "0                    0                0                0  ...          0    0   \n",
      "1                    0                0                0  ...          0    0   \n",
      "2                    0                0                0  ...          0    0   \n",
      "3                    0                0                0  ...          0    0   \n",
      "4                    0                0                0  ...          0    0   \n",
      "...                ...              ...              ...  ...        ...  ...   \n",
      "33711                0                0                0  ...          0    0   \n",
      "33712                0                0                0  ...          0    0   \n",
      "33713                0                0                0  ...          0    0   \n",
      "33714                0                0                0  ...          0    0   \n",
      "33715                0                0                0  ...          0    0   \n",
      "\n",
      "       zzx  zzxtfeerekvwkug  zzxxst  zzyudgpd  zzzglvaa  zzzxlqbha  zzzz  \\\n",
      "0        0                0       0         0         0          0     0   \n",
      "1        0                0       0         0         0          0     0   \n",
      "2        0                0       0         0         0          0     0   \n",
      "3        0                0       0         0         0          0     0   \n",
      "4        0                0       0         0         0          0     0   \n",
      "...    ...              ...     ...       ...       ...        ...   ...   \n",
      "33711    0                0       0         0         0          0     0   \n",
      "33712    0                0       0         0         0          0     0   \n",
      "33713    0                0       0         0         0          0     0   \n",
      "33714    0                0       0         0         0          0     0   \n",
      "33715    0                0       0         0         0          0     0   \n",
      "\n",
      "       zzzzcards  \n",
      "0              0  \n",
      "1              0  \n",
      "2              0  \n",
      "3              0  \n",
      "4              0  \n",
      "...          ...  \n",
      "33711          0  \n",
      "33712          0  \n",
      "33713          0  \n",
      "33714          0  \n",
      "33715          0  \n",
      "\n",
      "[33716 rows x 157247 columns]\n"
     ]
    }
   ],
   "source": [
    "import pandas as pd\n",
    "from sklearn.feature_extraction.text import CountVectorizer\n",
    "\n",
    "df = pd.read_csv('../data/enronspam.csv')\n",
    "\n",
    "remove = [\"Subject:\", \"enron\", \"\\\\\", \"text_  \", \"\\r\\n\", \"hpl actuals\"]\n",
    "# Gets rid of subject string\n",
    "\n",
    "for word in remove:\n",
    "  df = df.applymap(lambda x: x.replace(word, '') if isinstance(x, str) else x)\n",
    "df.head()\n",
    "\n",
    "X = df['text']\n",
    "\n",
    "vectorizer = CountVectorizer()\n",
    "X_vec = vectorizer.fit_transform(X)\n",
    "\n",
    "docTermMatrix = pd.DataFrame(X_vec.toarray(), columns=vectorizer.get_feature_names_out())\n",
    "print(docTermMatrix)"
   ]
  },
  {
   "cell_type": "code",
   "execution_count": null,
   "id": "23e996cc-bc7d-41bc-90f8-fbc692c7c10b",
   "metadata": {},
   "outputs": [],
   "source": []
  }
 ],
 "metadata": {
  "kernelspec": {
   "display_name": "Python 3 (ipykernel)",
   "language": "python",
   "name": "python3"
  },
  "language_info": {
   "codemirror_mode": {
    "name": "ipython",
    "version": 3
   },
   "file_extension": ".py",
   "mimetype": "text/x-python",
   "name": "python",
   "nbconvert_exporter": "python",
   "pygments_lexer": "ipython3",
   "version": "3.10.4"
  }
 },
 "nbformat": 4,
 "nbformat_minor": 5
}
