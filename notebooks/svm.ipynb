{
 "cells": [
  {
   "cell_type": "code",
   "execution_count": 11,
   "metadata": {},
   "outputs": [
    {
     "name": "stdout",
     "output_type": "stream",
     "text": [
      "0.9903603737208957\n"
     ]
    }
   ],
   "source": [
    "from sklearn.svm import SVC\n",
    "from sklearn import svm\n",
    "from sklearn.feature_extraction.text import TfidfVectorizer\n",
    "from sklearn.model_selection import train_test_split\n",
    "\n",
    "import pandas as pd\n",
    "\n",
    "\n",
    "model = svm.SVC(kernel='linear', C=1, gamma=1)\n",
    "\n",
    "transformer = TfidfVectorizer(stop_words='english', max_features=5000)\n",
    "\n",
    "df = pd.read_csv('../emails.csv')\n",
    "\n",
    "test = transformer.fit(df['text'])\n",
    "\n",
    "X = transformer.transform(df['text'])\n",
    "\n",
    "y = df['spam']\n",
    "\n",
    "X_train, X_test, y_train, y_test = train_test_split(X, y, test_size=0.2)\n",
    "\n",
    "model.fit(X_train, y_train)\n",
    "\n",
    "print(model.score(X_test, y_test))\n"
   ]
  },
  {
   "cell_type": "code",
   "execution_count": 13,
   "metadata": {},
   "outputs": [
    {
     "name": "stdout",
     "output_type": "stream",
     "text": [
      "[1 0]\n"
     ]
    }
   ],
   "source": [
    "real_world_example = transformer.transform([\"\"\"Subject: Did you receive your package? - Please verify\n",
    "YOU HAVE BEEN SELECTED TO GET OUR BRAND NEW iPhone 14 Pro\n",
    "\n",
    "\n",
    "this email is our official letter for your Confirmation. Congratulations! You've been chosen to Get an exclusive reward! Your Name came up for a BRAND NEW iPhone 14 Pro From T-Mobile !\n",
    "Subject: Someone tried to log in to your account, User ID #41181442\n",
    "Hi ,\n",
    "\n",
    "A user just logged into your Facebook account from a new device IPhone 13 Pro Max. We are sending you this email to verify it's really you.\n",
    "\n",
    "Thanks,\n",
    "The Facebook Team\"\"\", \"\"\"Re: Request for Reopening of Quiz 12 - COMP 529\n",
    "\n",
    "There may have been a technical issue with canvas as well regarding the quizzes so I have open them up until the end of the class session. There should not be anymore lock outs. \n",
    "\n",
    "California State University, Northridge\n",
    "18111 Nordhoff Street\n",
    "Northridge, CA 91330\n",
    "www.csun.edu\n",
    "\n",
    "Dr. Nelson Elder, DBA \n",
    "Phone: 818-262-0742\n",
    "nelson.elder@csun.edu\"\"\"])\n",
    "\n",
    "print(model.predict(real_world_example))"
   ]
  },
  {
   "cell_type": "code",
   "execution_count": 1,
   "metadata": {},
   "outputs": [],
   "source": [
    "class ModelTests:\n",
    "\n",
    "    def __init_(model):\n",
    "\n",
    "        if not hasattr(model, 'predict'):\n",
    "            raise ValueError('Unable to predict with selected model')\n",
    "\n"
   ]
  },
  {
   "cell_type": "code",
   "execution_count": 2,
   "metadata": {},
   "outputs": [
    {
     "ename": "TypeError",
     "evalue": "ModelTests() takes no arguments",
     "output_type": "error",
     "traceback": [
      "\u001b[0;31m---------------------------------------------------------------------------\u001b[0m",
      "\u001b[0;31mTypeError\u001b[0m                                 Traceback (most recent call last)",
      "\u001b[1;32m/home/echinoislas/email-enigma/notebooks/svm.ipynb Cell 3\u001b[0m line \u001b[0;36m1\n\u001b[0;32m----> <a href='vscode-notebook-cell://wsl%2Bubuntu-22.04/home/echinoislas/email-enigma/notebooks/svm.ipynb#W6sdnNjb2RlLXJlbW90ZQ%3D%3D?line=0'>1</a>\u001b[0m tt \u001b[39m=\u001b[39m ModelTests(\u001b[39mNone\u001b[39;49;00m)\n",
      "\u001b[0;31mTypeError\u001b[0m: ModelTests() takes no arguments"
     ]
    }
   ],
   "source": [
    "tt = ModelTests(None)"
   ]
  }
 ],
 "metadata": {
  "kernelspec": {
   "display_name": "venv",
   "language": "python",
   "name": "venv"
  },
  "language_info": {
   "codemirror_mode": {
    "name": "ipython",
    "version": 3
   },
   "file_extension": ".py",
   "mimetype": "text/x-python",
   "name": "python",
   "nbconvert_exporter": "python",
   "pygments_lexer": "ipython3",
   "version": "3.10.12"
  }
 },
 "nbformat": 4,
 "nbformat_minor": 4
}
