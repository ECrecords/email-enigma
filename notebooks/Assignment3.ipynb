{
 "cells": [
  {
   "cell_type": "code",
   "execution_count": 1,
   "id": "9a4aba7c-d842-4ce4-b90d-a57b52f9f009",
   "metadata": {},
   "outputs": [
    {
     "name": "stderr",
     "output_type": "stream",
     "text": [
      "C:\\Users\\Ryan\\AppData\\Local\\Temp\\ipykernel_17156\\3023757553.py:10: FutureWarning: DataFrame.applymap has been deprecated. Use DataFrame.map instead.\n",
      "  df = df.applymap(lambda x: x.replace(word, '') if isinstance(x, str) else x)\n"
     ]
    },
    {
     "name": "stdout",
     "output_type": "stream",
     "text": [
      "                the        viagra        thanks         money           and\n",
      "count  33716.000000  33716.000000  33716.000000  33716.000000  33716.000000\n",
      "mean       8.625371      0.050836      0.250178      0.203494      4.671758\n",
      "std       34.252763      0.371332      0.601021      1.052145     14.213720\n",
      "min        0.000000      0.000000      0.000000      0.000000      0.000000\n",
      "25%        0.000000      0.000000      0.000000      0.000000      0.000000\n",
      "50%        2.000000      0.000000      0.000000      0.000000      1.000000\n",
      "75%        8.000000      0.000000      0.000000      0.000000      5.000000\n",
      "max     1733.000000     12.000000     10.000000     40.000000    671.000000\n"
     ]
    }
   ],
   "source": [
    "import pandas as pd\n",
    "from sklearn.feature_extraction.text import CountVectorizer\n",
    "\n",
    "df = pd.read_csv('../data/enronspam.csv')\n",
    "\n",
    "remove = [\"Subject:\", \"enron\", \"\\\\\", \"text_  \", \"\\r\\n\", \"hpl actuals\"]\n",
    "# Gets rid of subject string\n",
    "\n",
    "for word in remove:\n",
    "  df = df.applymap(lambda x: x.replace(word, '') if isinstance(x, str) else x)\n",
    "df.head()\n",
    "\n",
    "X = df['text']\n",
    "\n",
    "vectorizer = CountVectorizer()\n",
    "X_vec = vectorizer.fit_transform(X)\n",
    "\n",
    "docTermMatrix = pd.DataFrame(X_vec.toarray(), columns=vectorizer.get_feature_names_out())\n",
    "\n",
    "print(docTermMatrix[['the', 'viagra', 'thanks', 'money', 'and']].describe())"
   ]
  },
  {
   "cell_type": "code",
   "execution_count": 3,
   "id": "b615d60b-3727-4a9e-86d8-b413a296b084",
   "metadata": {},
   "outputs": [
    {
     "name": "stdout",
     "output_type": "stream",
     "text": [
      "   the  viagra  thanks  money  and\n",
      "0    0       0       0      0    0\n"
     ]
    }
   ],
   "source": [
    "print(docTermMatrix[['the', 'viagra', 'thanks', 'money', 'and']].mode())"
   ]
  },
  {
   "cell_type": "code",
   "execution_count": 4,
   "id": "43f045cc-e223-4309-a1a2-1ed57b158124",
   "metadata": {},
   "outputs": [
    {
     "name": "stdout",
     "output_type": "stream",
     "text": [
      "the       1173.251759\n",
      "viagra       0.137887\n",
      "thanks       0.361226\n",
      "money        1.107010\n",
      "and        202.029849\n",
      "dtype: float64\n"
     ]
    }
   ],
   "source": [
    "print(docTermMatrix[['the', 'viagra', 'thanks', 'money', 'and']].var())"
   ]
  },
  {
   "cell_type": "code",
   "execution_count": 5,
   "id": "78872964-2a00-485f-964d-ff9c637dff38",
   "metadata": {},
   "outputs": [
    {
     "name": "stdout",
     "output_type": "stream",
     "text": [
      "the       34.252763\n",
      "viagra     0.371332\n",
      "thanks     0.601021\n",
      "money      1.052145\n",
      "and       14.213720\n",
      "dtype: float64\n"
     ]
    }
   ],
   "source": [
    "print(docTermMatrix[['the', 'viagra', 'thanks', 'money', 'and']].std())"
   ]
  },
  {
   "cell_type": "code",
   "execution_count": 6,
   "id": "e9c86a29-2882-4f99-8289-c5f034dc8703",
   "metadata": {},
   "outputs": [
    {
     "name": "stdout",
     "output_type": "stream",
     "text": [
      "the       22.225557\n",
      "viagra    13.058153\n",
      "thanks     3.767120\n",
      "money     14.495129\n",
      "and       17.428281\n",
      "dtype: float64\n"
     ]
    }
   ],
   "source": [
    "print(docTermMatrix[['the', 'viagra', 'thanks', 'money', 'and']].skew())"
   ]
  },
  {
   "cell_type": "code",
   "execution_count": 8,
   "id": "c0bdc133-7f42-433e-b17a-bbe74509e0cc",
   "metadata": {},
   "outputs": [
    {
     "name": "stdout",
     "output_type": "stream",
     "text": [
      "             the    viagra    thanks     money       and      spam\n",
      "the     1.000000 -0.022962  0.091095  0.505782  0.944207 -0.068700\n",
      "viagra -0.022962  1.000000 -0.029478  0.000168 -0.025015  0.134386\n",
      "thanks  0.091095 -0.029478  1.000000  0.013533  0.086969 -0.300175\n",
      "money   0.505782  0.000168  0.013533  1.000000  0.523272  0.120719\n",
      "and     0.944207 -0.025015  0.086969  0.523272  1.000000 -0.025687\n",
      "spam   -0.068700  0.134386 -0.300175  0.120719 -0.025687  1.000000\n"
     ]
    }
   ],
   "source": [
    "df5 = docTermMatrix[['the', 'viagra', 'thanks', 'money', 'and']]\n",
    "spam = df[['spam']]\n",
    "df6 = pd.concat([df5, spam], axis=1)\n",
    "print(df6.corr(method='pearson'))"
   ]
  },
  {
   "cell_type": "code",
   "execution_count": null,
   "id": "52a541ea-eb1d-4535-8ba6-3e0a799786d2",
   "metadata": {},
   "outputs": [],
   "source": []
  }
 ],
 "metadata": {
  "kernelspec": {
   "display_name": "Python 3 (ipykernel)",
   "language": "python",
   "name": "python3"
  },
  "language_info": {
   "codemirror_mode": {
    "name": "ipython",
    "version": 3
   },
   "file_extension": ".py",
   "mimetype": "text/x-python",
   "name": "python",
   "nbconvert_exporter": "python",
   "pygments_lexer": "ipython3",
   "version": "3.10.4"
  }
 },
 "nbformat": 4,
 "nbformat_minor": 5
}
